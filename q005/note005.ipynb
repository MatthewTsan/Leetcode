{
 "cells": [
  {
   "cell_type": "markdown",
   "metadata": {},
   "source": [
    "# Answer \n",
    "## Solution 1\n",
    "For each character, we test the longest palindrome with this character in middle or as one of two in the middle.\n",
    "\n",
    "Time complexity $O(x^2)$. Space: constant space.\n",
    "\n",
    "## Solution 2\n",
    "DP: We define P(i,j)P(i,j) as following:\n",
    "\n",
    "$$\n",
    "P(i,j) = \\begin{cases} true & \\test{if the substring } S_i \\dots S_j \\text{ is a palindrome}\\\\ \n",
    "\t\t\t\\text{false,} &\\text{otherwise.}\n",
    "\t\\end{cases} \n",
    "$$\n",
    "\n",
    "Therefore,\n",
    "$$\n",
    "P(i, j) = ( P(i+1, j-1) and S_i == S_j )\n",
    "$$\n",
    "The base cases are:\n",
    "$$\n",
    "P(i, i) = true\n",
    "P(i, i+1) = ( S_i == S_{i+1} )\n",
    "$$"
   ]
  },
  {
   "cell_type": "markdown",
   "metadata": {
    "collapsed": true
   },
   "source": []
  },
  {
   "cell_type": "markdown",
   "metadata": {},
   "source": []
  }
 ],
 "metadata": {
  "kernelspec": {
   "display_name": "Python 2",
   "language": "python",
   "name": "python2"
  },
  "language_info": {
   "codemirror_mode": {
    "name": "ipython",
    "version": 2
   },
   "file_extension": ".py",
   "mimetype": "text/x-python",
   "name": "python",
   "nbconvert_exporter": "python",
   "pygments_lexer": "ipython2",
   "version": "2.7.6"
  }
 },
 "nbformat": 4,
 "nbformat_minor": 0
}
