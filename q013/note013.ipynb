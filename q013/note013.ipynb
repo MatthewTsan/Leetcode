{
 "cells": [
  {
   "cell_type": "markdown",
   "metadata": {
    "collapsed": true
   },
   "source": [
    "# Answer\n",
    "\n",
    "Note: First, I want to just reverse function. reverst() is a method of list.\n",
    "\n",
    "Then I want to use reversed(): which reverse a string, list, dict, tuple. The most important thing is that reversed() return a iterator. Note that iterator only return variable when first go through. The second time, the iterator is the same that has gone through the items.\n",
    "\n",
    "For reverse string, the most used method is: str[::-1]."
   ]
  },
  {
   "cell_type": "code",
   "execution_count": null,
   "metadata": {},
   "outputs": [],
   "source": []
  }
 ],
 "metadata": {
  "kernelspec": {
   "display_name": "Python 2",
   "language": "python",
   "name": "python2"
  },
  "language_info": {
   "codemirror_mode": {
    "name": "ipython",
    "version": 2
   },
   "file_extension": ".py",
   "mimetype": "text/x-python",
   "name": "python",
   "nbconvert_exporter": "python",
   "pygments_lexer": "ipython2",
   "version": "2.7.6"
  }
 },
 "nbformat": 4,
 "nbformat_minor": 0
}
