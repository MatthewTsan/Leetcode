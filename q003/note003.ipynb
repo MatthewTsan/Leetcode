{
 "cells": [
  {
   "cell_type": "markdown",
   "metadata": {
    "collapsed": true
   },
   "source": [
    "# Answer:\n",
    "## Solution 1:\n",
    "We use greedy algrithm. The longest substring without repeating chracters must be one of the substring that the first character is same as the that next to the substring. So we maintence a box that only contains substrings like that.\n",
    "\n",
    "Note that python hide some detial. To reduce the time complexity, we use two instruction that may cause a large time: in and str.index(pos). For in, we can use a set, where make the opration O(1). For str.index(pos), we can have a dict, where mapping the charactor and its position, which make the opration O(1)."
   ]
  },
  {
   "cell_type": "code",
   "execution_count": null,
   "metadata": {},
   "outputs": [],
   "source": []
  }
 ],
 "metadata": {
  "kernelspec": {
   "display_name": "Python 2",
   "language": "python",
   "name": "python2"
  },
  "language_info": {
   "codemirror_mode": {
    "name": "ipython",
    "version": 2
   },
   "file_extension": ".py",
   "mimetype": "text/x-python",
   "name": "python",
   "nbconvert_exporter": "python",
   "pygments_lexer": "ipython2",
   "version": "2.7.6"
  }
 },
 "nbformat": 4,
 "nbformat_minor": 0
}
